{
 "cells": [
  {
   "cell_type": "markdown",
   "id": "d67559bf-d793-4fd3-9304-a7392f1b859f",
   "metadata": {},
   "source": [
    "# Imports"
   ]
  },
  {
   "cell_type": "code",
   "execution_count": null,
   "id": "bcaa74fd-b9bd-4801-9078-609f4555da4f",
   "metadata": {},
   "outputs": [],
   "source": [
    "import pandas as pd\n",
    "\n",
    "from bi_nitrogen_fertilization_ml_pipeline.main_api import predict_using_trained_model"
   ]
  },
  {
   "cell_type": "markdown",
   "id": "75b7011e-4100-4ecb-b141-c5b802687e23",
   "metadata": {},
   "source": [
    "# Load inference dataset"
   ]
  },
  {
   "cell_type": "code",
   "execution_count": null,
   "id": "73b04a7e-6136-4cab-bf3a-24c2aea65e11",
   "metadata": {},
   "outputs": [],
   "source": [
    "INFERENCE_DATASET_FILE_PATH = './datasets/sample_dataset.csv'"
   ]
  },
  {
   "cell_type": "code",
   "execution_count": null,
   "id": "fcf0fcea-6b67-487a-a9cb-30789e9440ef",
   "metadata": {},
   "outputs": [],
   "source": [
    "column_dtypes = {\n",
    "    # 'משק': str,\n",
    "    'עומק': float,\n",
    "    'קוד  קרקע': str,\n",
    "    'Krab_key_eng': str,\n",
    "    'YLD_Israel(1000T)': float,\n",
    "    'Precip_Gilat': float,\n",
    "    'year': str,\n",
    "}\n",
    "inference_dataset_df = pd.read_csv(\n",
    "    INFERENCE_DATASET_FILE_PATH, low_memory=False, dtype=column_dtypes,\n",
    ")\n",
    "\n",
    "print(f'inference dataset shape: {inference_dataset_df.shape}')"
   ]
  },
  {
   "cell_type": "markdown",
   "id": "02387014-0493-482c-b3c6-e9ee6a265e42",
   "metadata": {},
   "source": [
    "# Get model predictions"
   ]
  },
  {
   "cell_type": "code",
   "execution_count": null,
   "id": "47a31ba5-b1f9-49f5-8713-a49dda5eae43",
   "metadata": {},
   "outputs": [],
   "source": [
    "TRAINED_MODEL_FILE_PATH = './trained_model/model.zip'"
   ]
  },
  {
   "cell_type": "code",
   "execution_count": null,
   "id": "87284cd8-e74a-4fee-a767-dfd551ed532c",
   "metadata": {},
   "outputs": [],
   "source": [
    "y_pred = predict_using_trained_model(inference_dataset_df, TRAINED_MODEL_FILE_PATH)"
   ]
  },
  {
   "cell_type": "markdown",
   "id": "1f8dee78-106c-45e1-b545-50c0f2662764",
   "metadata": {},
   "source": [
    "# Optional - Save the inference dataset with the model predictions to a csv file"
   ]
  },
  {
   "cell_type": "code",
   "execution_count": null,
   "id": "3175edd3-0bd0-4e40-8a11-8a7906799dca",
   "metadata": {},
   "outputs": [],
   "source": [
    "OUTPUT_CSV_FILE_PATH = '/tmp/inference_dataset_with_predictions.csv'"
   ]
  },
  {
   "cell_type": "code",
   "execution_count": null,
   "id": "e7f7783e-fe3f-45c1-ae38-7a697956fa40",
   "metadata": {},
   "outputs": [],
   "source": [
    "inference_dataset_with_predictions_df = inference_dataset_df.copy()\n",
    "inference_dataset_with_predictions_df['model_prediction'] = y_pred\n",
    "inference_dataset_with_predictions_df.to_csv(OUTPUT_CSV_FILE_PATH, index=False)"
   ]
  }
 ],
 "metadata": {
  "kernelspec": {
   "display_name": "Python 3 (ipykernel)",
   "language": "python",
   "name": "python3"
  },
  "language_info": {
   "codemirror_mode": {
    "name": "ipython",
    "version": 3
   },
   "file_extension": ".py",
   "mimetype": "text/x-python",
   "name": "python",
   "nbconvert_exporter": "python",
   "pygments_lexer": "ipython3",
   "version": "3.10.11"
  }
 },
 "nbformat": 4,
 "nbformat_minor": 5
}
