{
 "cells": [
  {
   "cell_type": "markdown",
   "id": "32159024-64ac-41ca-8d92-e682a1bad837",
   "metadata": {},
   "source": [
    "# Imports"
   ]
  },
  {
   "cell_type": "code",
   "execution_count": null,
   "id": "a9a89798-90d5-4d1b-a415-c3c2a7be7df9",
   "metadata": {},
   "outputs": [],
   "source": [
    "import pandas as pd\n",
    "import keras.optimizers.legacy\n",
    "\n",
    "from bi_nitrogen_fertilization_ml_pipeline.main_api import train_and_evaluate_model\n",
    "from bi_nitrogen_fertilization_ml_pipeline.assets import init_baseline_model"
   ]
  },
  {
   "cell_type": "markdown",
   "id": "dc0d1711-e146-406d-9f11-cff90f41b242",
   "metadata": {},
   "source": [
    "# Preparations"
   ]
  },
  {
   "cell_type": "markdown",
   "id": "2a24993b-4bf6-42ed-beb3-6d37f526b196",
   "metadata": {},
   "source": [
    "## Load dataset"
   ]
  },
  {
   "cell_type": "code",
   "execution_count": null,
   "id": "c2de41ad-cb6d-4875-94b3-1287d6bd6a2e",
   "metadata": {
    "scrolled": true
   },
   "outputs": [],
   "source": [
    "TRAIN_DATASET_FILE_PATH = './datasets/sample_dataset.csv'"
   ]
  },
  {
   "cell_type": "code",
   "execution_count": null,
   "id": "1e26bfa2-7663-4681-9f7d-4dd42fb7c3f3",
   "metadata": {},
   "outputs": [],
   "source": [
    "column_dtypes = {\n",
    "    'N kg/d': float,\n",
    "    'עומק': float,\n",
    "    'קוד  קרקע': str,\n",
    "    'Krab_key_eng': str,\n",
    "    'YLD_Israel(1000T)': float,\n",
    "    'Precip_Gilat': float,\n",
    "    'year': str,\n",
    "}\n",
    "train_dataset_df = pd.read_csv(\n",
    "    TRAIN_DATASET_FILE_PATH, low_memory=False, dtype=column_dtypes,\n",
    ")\n",
    "print(f'train dataset shape: {train_dataset_df.shape}')"
   ]
  },
  {
   "cell_type": "markdown",
   "id": "52deaf02-897e-42c4-ba7a-5268a997f133",
   "metadata": {},
   "source": [
    "## Configuration definition"
   ]
  },
  {
   "cell_type": "code",
   "execution_count": null,
   "id": "95c3f46d-d68a-437c-8d37-2f83ac6ea969",
   "metadata": {},
   "outputs": [],
   "source": [
    "features_config = {\n",
    "    'target_column': 'N kg/d',\n",
    "    'features': [\n",
    "        # {\n",
    "        #     'column': 'משק',\n",
    "        #     'kind': 'categorical',\n",
    "        # },\n",
    "        {\n",
    "            'column': 'עומק',\n",
    "            'kind': 'numeric',\n",
    "        },\n",
    "        {\n",
    "            'column': 'קוד  קרקע',\n",
    "            'kind': 'categorical',\n",
    "        },\n",
    "        {\n",
    "            'column': 'Krab_key_eng',\n",
    "            'kind': 'categorical',\n",
    "        },\n",
    "        # {\n",
    "        #     'column': 'YLD_Israel(1000T)',\n",
    "        #     'kind': 'numeric',\n",
    "        # },\n",
    "        {\n",
    "            'column': 'Precip_Gilat',\n",
    "            'kind': 'numeric',\n",
    "        },\n",
    "        # *[\n",
    "        #     {\n",
    "        #         'column': feature_name,\n",
    "        #         'kind': 'numeric',\n",
    "        #     } for feature_name in (\n",
    "        #         'LST_-5', 'LST_-4', 'LST_-3', 'LST_-2', 'LST_-1', 'LST_0', 'LST_1', 'LST_2', 'LST_3', 'LST_4', 'LST_5', 'LST_6', 'temperature_2m_-5', 'temperature_2m_-4', 'temperature_2m_-3', 'temperature_2m_-2', 'temperature_2m_-1', 'temperature_2m_0', 'temperature_2m_1', 'temperature_2m_2', 'temperature_2m_3', 'temperature_2m_4', 'temperature_2m_5', 'temperature_2m_6', 'total_precipitation_sum_-5', 'total_precipitation_sum_-4', 'total_precipitation_sum_-3', 'total_precipitation_sum_-2', 'total_precipitation_sum_-1', 'total_precipitation_sum_0', 'total_precipitation_sum_1', 'total_precipitation_sum_2', 'total_precipitation_sum_3', 'total_precipitation_sum_4', 'total_precipitation_sum_5', 'total_precipitation_sum_6', 'NDVI_-5', 'NDVI_-4', 'NDVI_-3', 'NDVI_-2', 'NDVI_-1', 'NDVI_0', 'NDVI_1', 'NDVI_2', 'NDVI_3', 'NDVI_4', 'NDVI_5', 'NDVI_6'\n",
    "        #     )\n",
    "        # ]\n",
    "    ]\n",
    "}"
   ]
  },
  {
   "cell_type": "code",
   "execution_count": null,
   "id": "fdc3b27a-16d7-4e98-9fc9-5a21439e6a2c",
   "metadata": {},
   "outputs": [],
   "source": [
    "train_params = dict(\n",
    "    model_builder=init_baseline_model,\n",
    "    loss_function='mse',\n",
    "    evaluation_metric='rmse',\n",
    "    epochs_count=100,\n",
    "    evaluation_folds_split=dict(\n",
    "        by_key_column='year',\n",
    "        # by_folds_number=5,\n",
    "    ),\n",
    "    early_stopping=dict(\n",
    "        validation_set_fraction_size=0.2,\n",
    "        tolerance_epochs_count=9,\n",
    "    ),\n",
    "    optimizer_builder=keras.optimizers.legacy.Adam,\n",
    "    random_seed=42,\n",
    "    silent_models_fitting=True,\n",
    "    create_dataset_eda_reports=True,\n",
    ")"
   ]
  },
  {
   "cell_type": "markdown",
   "id": "eb4c157e-1e22-4b23-9880-3254bb7769e6",
   "metadata": {},
   "source": [
    "# Train and evaluate model"
   ]
  },
  {
   "cell_type": "code",
   "execution_count": null,
   "id": "71f78801-adb0-4d09-8aac-370e40e29c4b",
   "metadata": {},
   "outputs": [],
   "source": [
    "OUTPUT_MODEL_FILE_PATH = './trained_model/model.zip'"
   ]
  },
  {
   "cell_type": "code",
   "execution_count": null,
   "id": "f931b7c0-f6c1-44cd-a2c5-e30e0d9bad18",
   "metadata": {},
   "outputs": [],
   "source": [
    "train_and_evaluate_model(\n",
    "    raw_train_dataset_df=train_dataset_df,\n",
    "    features_config_dict=features_config,\n",
    "    train_params_dict=train_params,\n",
    "    output_model_file_path=OUTPUT_MODEL_FILE_PATH,\n",
    ")"
   ]
  }
 ],
 "metadata": {
  "kernelspec": {
   "display_name": "Python 3 (ipykernel)",
   "language": "python",
   "name": "python3"
  },
  "language_info": {
   "codemirror_mode": {
    "name": "ipython",
    "version": 3
   },
   "file_extension": ".py",
   "mimetype": "text/x-python",
   "name": "python",
   "nbconvert_exporter": "python",
   "pygments_lexer": "ipython3",
   "version": "3.10.11"
  }
 },
 "nbformat": 4,
 "nbformat_minor": 5
}
